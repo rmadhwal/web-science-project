{
 "cells": [
  {
   "cell_type": "code",
   "execution_count": 103,
   "metadata": {},
   "outputs": [],
   "source": [
    "import tweepy\n",
    "import json\n",
    "from bs4 import BeautifulSoup\n",
    "import requests\n",
    "from retry import retry\n",
    "import pandas as pd\n",
    "import matplotlib.pyplot as plt\n",
    "import seaborn as sns\n",
    "import itertools\n",
    "import scipy.stats as stats\n",
    "import statistics\n",
    "%matplotlib inline "
   ]
  },
  {
   "cell_type": "code",
   "execution_count": 6,
   "metadata": {},
   "outputs": [],
   "source": [
    "#Insert real values here\n",
    "consumer_key = \"not-the-real-consumer-key\"\n",
    "consumer_secret = \"not-the-real-consumer-secret\"\n",
    "access_token = \"not-the-real-access-token\"\n",
    "access_token_secret = \"not-the-real-access-token-secret\"\n",
    "bearer_token = \"not-the-real-bearer-token\""
   ]
  },
  {
   "cell_type": "code",
   "execution_count": 89,
   "metadata": {},
   "outputs": [],
   "source": [
    "#Tweet Categories\n",
    "long_text_photo = 'long_text_photo' \n",
    "short_text_photo = 'short_text_photo'\n",
    "link_text = 'link_text' \n",
    "long_text = 'long_text' \n",
    "short_text = 'short_text' \n",
    "video = 'video'"
   ]
  },
  {
   "cell_type": "code",
   "execution_count": 23,
   "metadata": {},
   "outputs": [],
   "source": [
    "accounts=[\"who\", \"CDCgov\", \"US_FDA\", \"MoHFW_INDIA\", \"DHSCgovuk\", \"HHSGov\", \"DOHgovph\", \"ECDC_EU\", \"American_Heart\", \"IDSAInfo\", \"POTUS\", \"mygovindia\", \"AAPDelhi\", \"GoI_MeitY\", \"PMOIndia\", \"UKParliament\", \"GOVUK\", \"HouseofCommons\", \"EU_Commission\", \"NATO\", \"UNGeneva\", \"french_gov\", \"CanadianPM\", \"GovtofPakistan\", \"scotgov\", \"scotgovhealth\", \"metpoliceuk\", \"DelhiPolice\", \"MumbaiPolice\", \"BlrCityPolice\", \"FBI\", \"CIA\"]"
   ]
  },
  {
   "cell_type": "code",
   "execution_count": 24,
   "metadata": {},
   "outputs": [],
   "source": [
    "auth = tweepy.OAuthHandler(consumer_key, consumer_secret)\n",
    "auth.set_access_token(access_token, access_token_secret)\n",
    "api = tweepy.API(auth)\n",
    "client = tweepy.Client(bearer_token=bearer_token)"
   ]
  },
  {
   "cell_type": "code",
   "execution_count": 25,
   "metadata": {},
   "outputs": [],
   "source": [
    "def extract_entity_from_tweet(tweet_json):\n",
    "    if 'extended_entities' in tweet_json:\n",
    "        return tweet_json['extended_entities']['media'][0]['type']\n",
    "    elif 'entities' in tweet_json:\n",
    "        if 'urls' in tweet_json['entities']:\n",
    "            if any(\"youtu.be\" in item['expanded_url'] for item in tweet_json['entities']['urls']):\n",
    "                return 'video'\n",
    "\n",
    "@retry(Exception, delay=16*60, tries=-1)\n",
    "def fetch_tweet_info_with_client(tweet_json):\n",
    "    return client.get_tweet(tweet_json['id'], \\\n",
    "      tweet_fields=[\"public_metrics\"])\n",
    "\n",
    "def tweet_to_metrics_and_type(tweet):\n",
    "    tweet_json = tweet._json\n",
    "    client_result = fetch_tweet_info_with_client(tweet_json)\n",
    "    tweet = client_result.data\n",
    "    tweet_metrics = tweet.public_metrics\n",
    "    tweet_metrics['id'] = tweet_json['id']\n",
    "    tweet_metrics['full_text'] = tweet_json['full_text']\n",
    "    tweet_type = extract_entity_from_tweet(tweet_json)\n",
    "    tweet_metrics['type'] = \"text\" if not tweet_type else tweet_type\n",
    "    return tweet_metrics"
   ]
  },
  {
   "cell_type": "code",
   "execution_count": 26,
   "metadata": {},
   "outputs": [],
   "source": [
    "tweets = {}\n",
    "for account in accounts:\n",
    "    tweet_jsons = api.user_timeline(screen_name=account, \n",
    "                           count=1000,\n",
    "                           include_rts = False,\n",
    "                           tweet_mode = 'extended'\n",
    "                           )\n",
    "    account_followers = tweet_jsons[0]._json['user']['followers_count']\n",
    "    account_tweets = list(map(tweet_to_metrics_and_type, tweet_jsons))\n",
    "    tweets[account] = {\"account_followers\": account_followers, \"account_tweets\": account_tweets}"
   ]
  },
  {
   "cell_type": "code",
   "execution_count": 35,
   "metadata": {},
   "outputs": [],
   "source": [
    "with open('tweets_with_text.json', 'w') as fp:\n",
    "    json.dump(tweets, fp)\n",
    "\n",
    "# with open('tweets_with_text.json') as json_file:\n",
    "#     tweets = json.load(json_file)"
   ]
  },
  {
   "cell_type": "code",
   "execution_count": 90,
   "metadata": {},
   "outputs": [],
   "source": [
    "long_text_photos = 0\n",
    "short_text_photos = 0\n",
    "link_texts = 0\n",
    "long_texts = 0\n",
    "short_texts = 0\n",
    "videos = 0\n",
    "for key in tweets.keys():\n",
    "    for tweet in tweets[key]['account_tweets']:\n",
    "        if tweet['type'] == 'photo':\n",
    "            if len(tweet['full_text']) >= 150:\n",
    "                tweet['parsed_type'] = long_text_photo\n",
    "                long_text_photos = long_text_photos + 1\n",
    "            else:\n",
    "                tweet['parsed_type'] = short_text_photo\n",
    "                short_text_photos = short_text_photos + 1\n",
    "        elif tweet['type'] == 'text':\n",
    "            if \"https://\" in tweet['full_text'] or \"http://\" in tweet['full_text']:\n",
    "                tweet['parsed_type'] = link_text\n",
    "                link_texts = link_texts + 1\n",
    "            elif len(tweet['full_text']) >= 150:\n",
    "                tweet['parsed_type'] = long_text\n",
    "                long_texts = long_texts + 1\n",
    "            else:\n",
    "                tweet['parsed_type'] = short_text\n",
    "                short_texts = short_texts + 1\n",
    "        else:\n",
    "            tweet['parsed_type'] = video\n",
    "            videos = videos + 1"
   ]
  },
  {
   "cell_type": "code",
   "execution_count": 74,
   "metadata": {},
   "outputs": [
    {
     "name": "stdout",
     "output_type": "stream",
     "text": [
      "1515 228 830 829 643 508\n"
     ]
    }
   ],
   "source": [
    "print(long_text_photos, short_text_photos, link_texts, long_texts, short_texts, videos)"
   ]
  },
  {
   "cell_type": "code",
   "execution_count": 92,
   "metadata": {},
   "outputs": [],
   "source": [
    "video_tweets_combined = []\n",
    "long_text_photo_tweets_combined = []\n",
    "short_text_photo_tweets_combined = []\n",
    "link_text_tweets_combined = []\n",
    "long_text_tweets_combined = []\n",
    "short_text_tweets_combined = []\n",
    "for key in tweets.keys():\n",
    "    account_followers = tweets[key]['account_followers']\n",
    "    for tweet in tweets[key]['account_tweets']:\n",
    "        tweet_without_id = dict((k, tweet[k]) for k in ['retweet_count', 'reply_count', 'like_count'])\n",
    "        normalised_tweet = {k:v/account_followers for k,v in tweet_without_id.items()}\n",
    "        if tweet['parsed_type'] == long_text_photo:\n",
    "            long_text_photo_tweets_combined.append(normalised_tweet)\n",
    "        elif tweet['parsed_type'] == short_text_photo:\n",
    "            short_text_photo_tweets_combined.append(normalised_tweet)\n",
    "        elif tweet['parsed_type'] == link_text:\n",
    "            link_text_tweets_combined.append(normalised_tweet)\n",
    "        elif tweet['parsed_type'] == long_text:\n",
    "            long_text_tweets_combined.append(normalised_tweet)\n",
    "        elif tweet['parsed_type'] == short_text:\n",
    "            short_text_tweets_combined.append(normalised_tweet)    \n",
    "        else:\n",
    "            video_tweets_combined.append(normalised_tweet)"
   ]
  },
  {
   "cell_type": "code",
   "execution_count": 93,
   "metadata": {},
   "outputs": [
    {
     "name": "stdout",
     "output_type": "stream",
     "text": [
      "1515 228 830 829 643 508\n"
     ]
    }
   ],
   "source": [
    "print(len(long_text_photo_tweets_combined), len(short_text_photo_tweets_combined),\n",
    "      len(link_text_tweets_combined), len(long_text_tweets_combined),\n",
    "      len(short_text_tweets_combined), len(video_tweets_combined))"
   ]
  },
  {
   "cell_type": "code",
   "execution_count": 122,
   "metadata": {},
   "outputs": [],
   "source": [
    "def extract_component(long_text_photo_tweets_combined, short_text_photo_tweets_combined, link_text_tweets_combined, long_text_tweets_combined, short_text_tweets_combined, video_tweets_combined, extraction_function):\n",
    "    long_text_photo_tweets_component = list(map(extraction_function, long_text_photo_tweets_combined))\n",
    "    short_text_photo_tweets_component = list(map(extraction_function, short_text_photo_tweets_combined))\n",
    "    link_text_tweets_component = list(map(extraction_function, link_text_tweets_combined))\n",
    "    long_text_tweets_component = list(map(extraction_function, long_text_tweets_combined))\n",
    "    short_text_tweets_component = list(map(extraction_function, short_text_tweets_combined))\n",
    "    video_component = list(map(retweet, video_tweets_combined))\n",
    "    return long_text_photo_tweets_component, short_text_photo_tweets_component, link_text_tweets_component, long_text_tweets_component, short_text_tweets_component, video_component"
   ]
  },
  {
   "cell_type": "code",
   "execution_count": 133,
   "metadata": {},
   "outputs": [],
   "source": [
    "def retweet(tweet):\n",
    "    return tweet['retweet_count']\n",
    "long_text_photo_tweets_retweets, short_text_photo_tweets_retweets, link_text_tweets_retweets, long_text_tweets_retweets, short_text_tweets_retweets, video_retweets = extract_component(long_text_photo_tweets_combined, short_text_photo_tweets_combined, link_text_tweets_combined, long_text_tweets_combined, short_text_tweets_combined, video_tweets_combined, retweet)\n",
    "long_text_photo_tweets_retweets = [x for x in long_text_photo_tweets_retweets if x <= 0.002]\n",
    "short_text_photo_tweets_retweets = [x for x in short_text_photo_tweets_retweets if x <= 0.002]\n",
    "link_text_tweets_retweets = [x for x in link_text_tweets_retweets if x <= 0.002]\n",
    "long_text_tweets_retweets = [x for x in long_text_tweets_retweets if x <= 0.002]\n",
    "short_text_tweets_retweets = [x for x in short_text_tweets_retweets if x <= 0.002]\n",
    "video_retweets = [x for x in video_retweets if x <= 0.003]"
   ]
  },
  {
   "cell_type": "code",
   "execution_count": 134,
   "metadata": {},
   "outputs": [
    {
     "name": "stdout",
     "output_type": "stream",
     "text": [
      "1513 228 829 828 643 508\n"
     ]
    }
   ],
   "source": [
    "print(len(long_text_photo_tweets_retweets), len(short_text_photo_tweets_retweets), len(link_text_tweets_retweets), len(long_text_tweets_retweets), len(short_text_tweets_retweets), len(video_retweets))"
   ]
  },
  {
   "cell_type": "code",
   "execution_count": 135,
   "metadata": {},
   "outputs": [
    {
     "data": {
      "text/html": [
       "<div>\n",
       "<style scoped>\n",
       "    .dataframe tbody tr th:only-of-type {\n",
       "        vertical-align: middle;\n",
       "    }\n",
       "\n",
       "    .dataframe tbody tr th {\n",
       "        vertical-align: top;\n",
       "    }\n",
       "\n",
       "    .dataframe thead th {\n",
       "        text-align: right;\n",
       "    }\n",
       "</style>\n",
       "<table border=\"1\" class=\"dataframe\">\n",
       "  <thead>\n",
       "    <tr style=\"text-align: right;\">\n",
       "      <th></th>\n",
       "      <th>index</th>\n",
       "      <th>tweet type</th>\n",
       "      <th>normalised retweet value</th>\n",
       "    </tr>\n",
       "  </thead>\n",
       "  <tbody>\n",
       "    <tr>\n",
       "      <th>0</th>\n",
       "      <td>0</td>\n",
       "      <td>long_text_photo</td>\n",
       "      <td>0.000002</td>\n",
       "    </tr>\n",
       "    <tr>\n",
       "      <th>1</th>\n",
       "      <td>1</td>\n",
       "      <td>long_text_photo</td>\n",
       "      <td>0.000002</td>\n",
       "    </tr>\n",
       "    <tr>\n",
       "      <th>2</th>\n",
       "      <td>2</td>\n",
       "      <td>long_text_photo</td>\n",
       "      <td>0.000002</td>\n",
       "    </tr>\n",
       "    <tr>\n",
       "      <th>3</th>\n",
       "      <td>3</td>\n",
       "      <td>long_text_photo</td>\n",
       "      <td>0.000006</td>\n",
       "    </tr>\n",
       "    <tr>\n",
       "      <th>4</th>\n",
       "      <td>4</td>\n",
       "      <td>long_text_photo</td>\n",
       "      <td>0.000028</td>\n",
       "    </tr>\n",
       "    <tr>\n",
       "      <th>...</th>\n",
       "      <td>...</td>\n",
       "      <td>...</td>\n",
       "      <td>...</td>\n",
       "    </tr>\n",
       "    <tr>\n",
       "      <th>4544</th>\n",
       "      <td>4544</td>\n",
       "      <td>video</td>\n",
       "      <td>0.000039</td>\n",
       "    </tr>\n",
       "    <tr>\n",
       "      <th>4545</th>\n",
       "      <td>4545</td>\n",
       "      <td>video</td>\n",
       "      <td>0.000012</td>\n",
       "    </tr>\n",
       "    <tr>\n",
       "      <th>4546</th>\n",
       "      <td>4546</td>\n",
       "      <td>video</td>\n",
       "      <td>0.000025</td>\n",
       "    </tr>\n",
       "    <tr>\n",
       "      <th>4547</th>\n",
       "      <td>4547</td>\n",
       "      <td>video</td>\n",
       "      <td>0.000086</td>\n",
       "    </tr>\n",
       "    <tr>\n",
       "      <th>4548</th>\n",
       "      <td>4548</td>\n",
       "      <td>video</td>\n",
       "      <td>0.000029</td>\n",
       "    </tr>\n",
       "  </tbody>\n",
       "</table>\n",
       "<p>4549 rows × 3 columns</p>\n",
       "</div>"
      ],
      "text/plain": [
       "      index       tweet type  normalised retweet value\n",
       "0         0  long_text_photo                  0.000002\n",
       "1         1  long_text_photo                  0.000002\n",
       "2         2  long_text_photo                  0.000002\n",
       "3         3  long_text_photo                  0.000006\n",
       "4         4  long_text_photo                  0.000028\n",
       "...     ...              ...                       ...\n",
       "4544   4544            video                  0.000039\n",
       "4545   4545            video                  0.000012\n",
       "4546   4546            video                  0.000025\n",
       "4547   4547            video                  0.000086\n",
       "4548   4548            video                  0.000029\n",
       "\n",
       "[4549 rows x 3 columns]"
      ]
     },
     "execution_count": 135,
     "metadata": {},
     "output_type": "execute_result"
    }
   ],
   "source": [
    "df_retweet = pd.DataFrame(list(itertools.zip_longest(long_text_photo_tweets_retweets, short_text_photo_tweets_retweets, link_text_tweets_retweets, long_text_tweets_retweets, short_text_tweets_retweets, video_retweets)),columns =['long_text_photo', 'short_text_photo', 'link_text', 'long_text', 'short_text', 'video'])\n",
    "df_retweet['index'] = df_retweet.index\n",
    "df_retweet_melt = pd.melt(df_retweet.reset_index(), id_vars=['index'], value_vars=['long_text_photo', 'short_text_photo', 'link_text', 'long_text', 'short_text', 'video'])\n",
    "df_retweet_melt.dropna(subset = [\"value\"], inplace=True)\n",
    "df_retweet_melt.reset_index(inplace=True)\n",
    "df_retweet_melt['index'] = df_retweet_melt.index\n",
    "df_retweet_melt.drop('level_0', axis=1, inplace=True)\n",
    "df_retweet_melt.columns = ['index', 'tweet type', 'normalised retweet value']\n",
    "df_retweet_melt"
   ]
  },
  {
   "cell_type": "code",
   "execution_count": 136,
   "metadata": {},
   "outputs": [
    {
     "data": {
      "image/png": "[encoded data removed]",
      "text/plain": [
       "<Figure size 432x288 with 1 Axes>"
      ]
     },
     "metadata": {
      "needs_background": "light"
     },
     "output_type": "display_data"
    }
   ],
   "source": [
    "ax = sns.boxplot(x='tweet type', y='normalised retweet value', data=df_retweet_melt, color='#99c2a2')\n",
    "plt.show()"
   ]
  },
  {
   "cell_type": "code",
   "execution_count": 131,
   "metadata": {},
   "outputs": [
    {
     "data": {
      "text/plain": [
       "KruskalResult(statistic=1187.170370349343, pvalue=1.765691904469306e-254)"
      ]
     },
     "execution_count": 131,
     "metadata": {},
     "output_type": "execute_result"
    }
   ],
   "source": [
    "stats.kruskal(long_text_photo_tweets_retweets, short_text_photo_tweets_retweets, link_text_tweets_retweets, long_text_tweets_retweets, short_text_tweets_retweets, video_retweets)"
   ]
  },
  {
   "cell_type": "code",
   "execution_count": 132,
   "metadata": {},
   "outputs": [
    {
     "name": "stdout",
     "output_type": "stream",
     "text": [
      "9.789183495505093e-05 8.721061318443697e-05 3.7771726945693584e-05 5.876636519193101e-05 1.5077125581311232e-05 8.322756946022994e-05\n"
     ]
    }
   ],
   "source": [
    "print(statistics.mean(long_text_photo_tweets_retweets), statistics.mean(short_text_photo_tweets_retweets), statistics.mean(link_text_tweets_retweets), statistics.mean(long_text_tweets_retweets), statistics.mean(short_text_tweets_retweets), statistics.mean(video_retweets))"
   ]
  },
  {
   "cell_type": "code",
   "execution_count": 137,
   "metadata": {},
   "outputs": [],
   "source": [
    "def like(tweet):\n",
    "    return tweet['like_count']\n",
    "long_text_photo_tweets_likes, short_text_photo_tweets_likes, link_text_tweets_likes, long_text_tweets_likes, short_text_tweets_likes, video_likes = extract_component(long_text_photo_tweets_combined, short_text_photo_tweets_combined, link_text_tweets_combined, long_text_tweets_combined, short_text_tweets_combined, video_tweets_combined, like)\n",
    "long_text_photo_tweets_likes = [x for x in long_text_photo_tweets_likes if x <= 0.002]\n",
    "short_text_photo_tweets_likes = [x for x in short_text_photo_tweets_likes if x <= 0.002]\n",
    "link_text_tweets_likes = [x for x in link_text_tweets_likes if x <= 0.002]\n",
    "long_text_tweets_likes = [x for x in long_text_tweets_likes if x <= 0.002]\n",
    "short_text_tweets_likes = [x for x in short_text_tweets_likes if x <= 0.002]\n",
    "video_likes = [x for x in video_likes if x <= 0.002]"
   ]
  },
  {
   "cell_type": "code",
   "execution_count": 138,
   "metadata": {},
   "outputs": [
    {
     "data": {
      "text/html": [
       "<div>\n",
       "<style scoped>\n",
       "    .dataframe tbody tr th:only-of-type {\n",
       "        vertical-align: middle;\n",
       "    }\n",
       "\n",
       "    .dataframe tbody tr th {\n",
       "        vertical-align: top;\n",
       "    }\n",
       "\n",
       "    .dataframe thead th {\n",
       "        text-align: right;\n",
       "    }\n",
       "</style>\n",
       "<table border=\"1\" class=\"dataframe\">\n",
       "  <thead>\n",
       "    <tr style=\"text-align: right;\">\n",
       "      <th></th>\n",
       "      <th>index</th>\n",
       "      <th>tweet type</th>\n",
       "      <th>normalised likes value</th>\n",
       "    </tr>\n",
       "  </thead>\n",
       "  <tbody>\n",
       "    <tr>\n",
       "      <th>0</th>\n",
       "      <td>0</td>\n",
       "      <td>long_text_photo</td>\n",
       "      <td>0.000005</td>\n",
       "    </tr>\n",
       "    <tr>\n",
       "      <th>1</th>\n",
       "      <td>1</td>\n",
       "      <td>long_text_photo</td>\n",
       "      <td>0.000007</td>\n",
       "    </tr>\n",
       "    <tr>\n",
       "      <th>2</th>\n",
       "      <td>2</td>\n",
       "      <td>long_text_photo</td>\n",
       "      <td>0.000007</td>\n",
       "    </tr>\n",
       "    <tr>\n",
       "      <th>3</th>\n",
       "      <td>3</td>\n",
       "      <td>long_text_photo</td>\n",
       "      <td>0.000022</td>\n",
       "    </tr>\n",
       "    <tr>\n",
       "      <th>4</th>\n",
       "      <td>4</td>\n",
       "      <td>long_text_photo</td>\n",
       "      <td>0.000050</td>\n",
       "    </tr>\n",
       "    <tr>\n",
       "      <th>...</th>\n",
       "      <td>...</td>\n",
       "      <td>...</td>\n",
       "      <td>...</td>\n",
       "    </tr>\n",
       "    <tr>\n",
       "      <th>4476</th>\n",
       "      <td>4476</td>\n",
       "      <td>video</td>\n",
       "      <td>0.000039</td>\n",
       "    </tr>\n",
       "    <tr>\n",
       "      <th>4477</th>\n",
       "      <td>4477</td>\n",
       "      <td>video</td>\n",
       "      <td>0.000012</td>\n",
       "    </tr>\n",
       "    <tr>\n",
       "      <th>4478</th>\n",
       "      <td>4478</td>\n",
       "      <td>video</td>\n",
       "      <td>0.000025</td>\n",
       "    </tr>\n",
       "    <tr>\n",
       "      <th>4479</th>\n",
       "      <td>4479</td>\n",
       "      <td>video</td>\n",
       "      <td>0.000086</td>\n",
       "    </tr>\n",
       "    <tr>\n",
       "      <th>4480</th>\n",
       "      <td>4480</td>\n",
       "      <td>video</td>\n",
       "      <td>0.000029</td>\n",
       "    </tr>\n",
       "  </tbody>\n",
       "</table>\n",
       "<p>4481 rows × 3 columns</p>\n",
       "</div>"
      ],
      "text/plain": [
       "      index       tweet type  normalised likes value\n",
       "0         0  long_text_photo                0.000005\n",
       "1         1  long_text_photo                0.000007\n",
       "2         2  long_text_photo                0.000007\n",
       "3         3  long_text_photo                0.000022\n",
       "4         4  long_text_photo                0.000050\n",
       "...     ...              ...                     ...\n",
       "4476   4476            video                0.000039\n",
       "4477   4477            video                0.000012\n",
       "4478   4478            video                0.000025\n",
       "4479   4479            video                0.000086\n",
       "4480   4480            video                0.000029\n",
       "\n",
       "[4481 rows x 3 columns]"
      ]
     },
     "execution_count": 138,
     "metadata": {},
     "output_type": "execute_result"
    }
   ],
   "source": [
    "df_likes = pd.DataFrame(list(itertools.zip_longest(long_text_photo_tweets_likes, short_text_photo_tweets_likes, link_text_tweets_likes, long_text_tweets_likes, short_text_tweets_likes, video_likes)),columns =['long_text_photo', 'short_text_photo', 'link_text', 'long_text', 'short_text', 'video'])\n",
    "df_likes['index'] = df_likes.index\n",
    "df_likes_melt = pd.melt(df_likes.reset_index(), id_vars=['index'], value_vars=['long_text_photo', 'short_text_photo', 'link_text', 'long_text', 'short_text', 'video'])\n",
    "df_likes_melt.dropna(subset = [\"value\"], inplace=True)\n",
    "df_likes_melt.reset_index(inplace=True)\n",
    "df_likes_melt['index'] = df_likes_melt.index\n",
    "df_likes_melt.drop('level_0', axis=1, inplace=True)\n",
    "df_likes_melt.columns = ['index', 'tweet type', 'normalised likes value']\n",
    "df_likes_melt"
   ]
  },
  {
   "cell_type": "code",
   "execution_count": 139,
   "metadata": {},
   "outputs": [
    {
     "data": {
      "image/png": "[encoded data removed]",
      "text/plain": [
       "<Figure size 432x288 with 1 Axes>"
      ]
     },
     "metadata": {
      "needs_background": "light"
     },
     "output_type": "display_data"
    }
   ],
   "source": [
    "ax = sns.boxplot(x='tweet type', y='normalised likes value', data=df_likes_melt, color='#99c2a2')\n",
    "plt.show()"
   ]
  },
  {
   "cell_type": "code",
   "execution_count": 141,
   "metadata": {},
   "outputs": [
    {
     "data": {
      "text/plain": [
       "KruskalResult(statistic=1094.6053594638252, pvalue=1.9695234490228915e-234)"
      ]
     },
     "execution_count": 141,
     "metadata": {},
     "output_type": "execute_result"
    }
   ],
   "source": [
    "stats.kruskal(long_text_photo_tweets_likes, short_text_photo_tweets_likes, link_text_tweets_likes, long_text_tweets_likes, short_text_tweets_likes, video_likes)"
   ]
  },
  {
   "cell_type": "code",
   "execution_count": 142,
   "metadata": {},
   "outputs": [
    {
     "name": "stdout",
     "output_type": "stream",
     "text": [
      "0.00016432818756846902 0.00016309804535125775 8.18252573047842e-05 0.00015931596243688013 2.971040446783683e-05 8.322756946022994e-05\n"
     ]
    }
   ],
   "source": [
    "print(statistics.mean(long_text_photo_tweets_likes), statistics.mean(short_text_photo_tweets_likes), statistics.mean(link_text_tweets_likes), statistics.mean(long_text_tweets_likes), statistics.mean(short_text_tweets_likes), statistics.mean(video_likes))"
   ]
  },
  {
   "cell_type": "code",
   "execution_count": 146,
   "metadata": {},
   "outputs": [],
   "source": [
    "def reply(tweet):\n",
    "    return tweet['reply_count']\n",
    "long_text_photo_tweets_replies, short_text_photo_tweets_replies, link_text_tweets_replies, long_text_tweets_replies, short_text_tweets_replies, video_replies = extract_component(long_text_photo_tweets_combined, short_text_photo_tweets_combined, link_text_tweets_combined, long_text_tweets_combined, short_text_tweets_combined, video_tweets_combined, reply)\n",
    "long_text_photo_tweets_replies = [x for x in long_text_photo_tweets_replies if x <= 0.002]\n",
    "short_text_photo_tweets_replies = [x for x in short_text_photo_tweets_replies if x <= 0.002]\n",
    "link_text_tweets_replies = [x for x in link_text_tweets_replies if x <= 0.002]\n",
    "long_text_tweets_replies = [x for x in long_text_tweets_replies if x <= 0.002]\n",
    "short_text_tweets_replies = [x for x in short_text_tweets_replies if x <= 0.002]\n",
    "video_replies = [x for x in video_replies if x <= 0.002]"
   ]
  },
  {
   "cell_type": "code",
   "execution_count": 147,
   "metadata": {},
   "outputs": [
    {
     "data": {
      "text/html": [
       "<div>\n",
       "<style scoped>\n",
       "    .dataframe tbody tr th:only-of-type {\n",
       "        vertical-align: middle;\n",
       "    }\n",
       "\n",
       "    .dataframe tbody tr th {\n",
       "        vertical-align: top;\n",
       "    }\n",
       "\n",
       "    .dataframe thead th {\n",
       "        text-align: right;\n",
       "    }\n",
       "</style>\n",
       "<table border=\"1\" class=\"dataframe\">\n",
       "  <thead>\n",
       "    <tr style=\"text-align: right;\">\n",
       "      <th></th>\n",
       "      <th>index</th>\n",
       "      <th>tweet type</th>\n",
       "      <th>normalised reply value</th>\n",
       "    </tr>\n",
       "  </thead>\n",
       "  <tbody>\n",
       "    <tr>\n",
       "      <th>0</th>\n",
       "      <td>0</td>\n",
       "      <td>long_text_photo</td>\n",
       "      <td>9.389849e-08</td>\n",
       "    </tr>\n",
       "    <tr>\n",
       "      <th>1</th>\n",
       "      <td>1</td>\n",
       "      <td>long_text_photo</td>\n",
       "      <td>8.450864e-07</td>\n",
       "    </tr>\n",
       "    <tr>\n",
       "      <th>2</th>\n",
       "      <td>2</td>\n",
       "      <td>long_text_photo</td>\n",
       "      <td>1.877970e-07</td>\n",
       "    </tr>\n",
       "    <tr>\n",
       "      <th>3</th>\n",
       "      <td>3</td>\n",
       "      <td>long_text_photo</td>\n",
       "      <td>1.971868e-06</td>\n",
       "    </tr>\n",
       "    <tr>\n",
       "      <th>4</th>\n",
       "      <td>4</td>\n",
       "      <td>long_text_photo</td>\n",
       "      <td>6.103402e-06</td>\n",
       "    </tr>\n",
       "    <tr>\n",
       "      <th>...</th>\n",
       "      <td>...</td>\n",
       "      <td>...</td>\n",
       "      <td>...</td>\n",
       "    </tr>\n",
       "    <tr>\n",
       "      <th>4547</th>\n",
       "      <td>4547</td>\n",
       "      <td>video</td>\n",
       "      <td>3.888602e-05</td>\n",
       "    </tr>\n",
       "    <tr>\n",
       "      <th>4548</th>\n",
       "      <td>4548</td>\n",
       "      <td>video</td>\n",
       "      <td>1.198742e-05</td>\n",
       "    </tr>\n",
       "    <tr>\n",
       "      <th>4549</th>\n",
       "      <td>4549</td>\n",
       "      <td>video</td>\n",
       "      <td>2.455959e-05</td>\n",
       "    </tr>\n",
       "    <tr>\n",
       "      <th>4550</th>\n",
       "      <td>4550</td>\n",
       "      <td>video</td>\n",
       "      <td>8.573264e-05</td>\n",
       "    </tr>\n",
       "    <tr>\n",
       "      <th>4551</th>\n",
       "      <td>4551</td>\n",
       "      <td>video</td>\n",
       "      <td>2.928192e-05</td>\n",
       "    </tr>\n",
       "  </tbody>\n",
       "</table>\n",
       "<p>4552 rows × 3 columns</p>\n",
       "</div>"
      ],
      "text/plain": [
       "      index       tweet type  normalised reply value\n",
       "0         0  long_text_photo            9.389849e-08\n",
       "1         1  long_text_photo            8.450864e-07\n",
       "2         2  long_text_photo            1.877970e-07\n",
       "3         3  long_text_photo            1.971868e-06\n",
       "4         4  long_text_photo            6.103402e-06\n",
       "...     ...              ...                     ...\n",
       "4547   4547            video            3.888602e-05\n",
       "4548   4548            video            1.198742e-05\n",
       "4549   4549            video            2.455959e-05\n",
       "4550   4550            video            8.573264e-05\n",
       "4551   4551            video            2.928192e-05\n",
       "\n",
       "[4552 rows x 3 columns]"
      ]
     },
     "execution_count": 147,
     "metadata": {},
     "output_type": "execute_result"
    }
   ],
   "source": [
    "df_replies = pd.DataFrame(list(itertools.zip_longest(long_text_photo_tweets_replies, short_text_photo_tweets_replies, link_text_tweets_replies, long_text_tweets_replies, short_text_tweets_replies, video_replies)),columns =['long_text_photo', 'short_text_photo', 'link_text', 'long_text', 'short_text', 'video'])\n",
    "df_replies['index'] = df_replies.index\n",
    "df_replies_melt = pd.melt(df_replies.reset_index(), id_vars=['index'], value_vars=['long_text_photo', 'short_text_photo', 'link_text', 'long_text', 'short_text', 'video'])\n",
    "df_replies_melt.dropna(subset = [\"value\"], inplace=True)\n",
    "df_replies_melt.reset_index(inplace=True)\n",
    "df_replies_melt['index'] = df_replies_melt.index\n",
    "df_replies_melt.drop('level_0', axis=1, inplace=True)\n",
    "df_replies_melt.columns = ['index', 'tweet type', 'normalised reply value']\n",
    "df_replies_melt"
   ]
  },
  {
   "cell_type": "code",
   "execution_count": 148,
   "metadata": {},
   "outputs": [
    {
     "data": {
      "image/png": "[encoded data removed]",
      "text/plain": [
       "<Figure size 432x288 with 1 Axes>"
      ]
     },
     "metadata": {
      "needs_background": "light"
     },
     "output_type": "display_data"
    }
   ],
   "source": [
    "az = sns.boxplot(x='tweet type', y='normalised reply value', data=df_replies_melt, color='#99c2a2')\n",
    "plt.show()"
   ]
  },
  {
   "cell_type": "code",
   "execution_count": 149,
   "metadata": {},
   "outputs": [
    {
     "data": {
      "text/plain": [
       "KruskalResult(statistic=966.9020870354694, pvalue=8.792631397964216e-207)"
      ]
     },
     "execution_count": 149,
     "metadata": {},
     "output_type": "execute_result"
    }
   ],
   "source": [
    "stats.kruskal(long_text_photo_tweets_replies, short_text_photo_tweets_replies, link_text_tweets_replies, long_text_tweets_replies, short_text_tweets_replies, video_replies)"
   ]
  },
  {
   "cell_type": "code",
   "execution_count": 150,
   "metadata": {},
   "outputs": [
    {
     "name": "stdout",
     "output_type": "stream",
     "text": [
      "4.318017709161239e-05 3.829362582224144e-05 2.6718203318352755e-05 4.8026460017266505e-05 1.258951781228251e-05 8.322756946022994e-05\n"
     ]
    }
   ],
   "source": [
    "print(statistics.mean(long_text_photo_tweets_replies), statistics.mean(short_text_photo_tweets_replies), statistics.mean(link_text_tweets_replies), statistics.mean(long_text_tweets_replies), statistics.mean(short_text_tweets_replies), statistics.mean(video_replies))"
   ]
  }
 ],
 "metadata": {
  "kernelspec": {
   "display_name": "Python 3",
   "language": "python",
   "name": "python3"
  },
  "language_info": {
   "codemirror_mode": {
    "name": "ipython",
    "version": 3
   },
   "file_extension": ".py",
   "mimetype": "text/x-python",
   "name": "python",
   "nbconvert_exporter": "python",
   "pygments_lexer": "ipython3",
   "version": "3.9.1"
  }
 },
 "nbformat": 4,
 "nbformat_minor": 4
}
